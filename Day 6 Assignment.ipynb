{
 "cells": [
  {
   "cell_type": "code",
   "execution_count": 12,
   "metadata": {},
   "outputs": [],
   "source": [
    "\n",
    "\n",
    "class Bank_Account():\n",
    "    def __init__(self,name,balance):\n",
    "        self.name=name\n",
    "        self.balance=balance\n",
    "    def getDetails(self):\n",
    "        print(\"name\",self.name)\n",
    "        print(\"balance\",self.balance)\n",
    "    def deposit(self):\n",
    "        amount=float(input(\"Enter amount to be Deposited: \"))\n",
    "        self.balance += amount\n",
    "        print(\"\\n Amount Deposited: \",amount)\n",
    "        print (\"Available Balance: \",self.balance)\n",
    " \n",
    "    def withdraw(self):\n",
    "        amount = float(input(\"Enter amount to be Withdrawn: \"))\n",
    "        if self.balance>=amount:\n",
    "            self.balance-=amount\n",
    "            print(\"\\n You Withdrew:\", amount)\n",
    "            print (\"Available Balance: \",self.balance)\n",
    "        else:\n",
    "            print(\"\\n Insufficient balance  \")   \n",
    "    def display(self):\n",
    "        print(\"\\n Net Available Balance=\",self.balance)\n",
    " \n"
   ]
  },
  {
   "cell_type": "code",
   "execution_count": 13,
   "metadata": {},
   "outputs": [],
   "source": [
    "x=Bank_Account(\"Nirbhay\",50000)"
   ]
  },
  {
   "cell_type": "code",
   "execution_count": 14,
   "metadata": {},
   "outputs": [
    {
     "name": "stdout",
     "output_type": "stream",
     "text": [
      "name Nirbhay\n",
      "balance 50000\n"
     ]
    }
   ],
   "source": [
    "x.getDetails()"
   ]
  },
  {
   "cell_type": "code",
   "execution_count": 15,
   "metadata": {},
   "outputs": [
    {
     "name": "stdin",
     "output_type": "stream",
     "text": [
      "Enter amount to be Deposited:  10000\n"
     ]
    },
    {
     "name": "stdout",
     "output_type": "stream",
     "text": [
      "\n",
      " Amount Deposited:  10000.0\n",
      "Available Balance:  60000.0\n"
     ]
    }
   ],
   "source": [
    "x.deposit()"
   ]
  },
  {
   "cell_type": "code",
   "execution_count": 7,
   "metadata": {},
   "outputs": [
    {
     "name": "stdin",
     "output_type": "stream",
     "text": [
      "Enter amount to be Deposited:  15000\n"
     ]
    },
    {
     "name": "stdout",
     "output_type": "stream",
     "text": [
      "\n",
      " Amount Deposited: 15000.0\n"
     ]
    }
   ],
   "source": [
    "x.deposit()\n"
   ]
  },
  {
   "cell_type": "code",
   "execution_count": 8,
   "metadata": {},
   "outputs": [
    {
     "name": "stdout",
     "output_type": "stream",
     "text": [
      "\n",
      " Net Available Balance= 85000.0\n"
     ]
    }
   ],
   "source": [
    "x.display()"
   ]
  },
  {
   "cell_type": "code",
   "execution_count": 9,
   "metadata": {},
   "outputs": [
    {
     "name": "stdin",
     "output_type": "stream",
     "text": [
      "Enter amount to be Withdrawn:  90000\n"
     ]
    },
    {
     "name": "stdout",
     "output_type": "stream",
     "text": [
      "\n",
      " Insufficient balance  \n"
     ]
    }
   ],
   "source": [
    "x.withdraw()\n"
   ]
  },
  {
   "cell_type": "code",
   "execution_count": 10,
   "metadata": {},
   "outputs": [
    {
     "name": "stdin",
     "output_type": "stream",
     "text": [
      "Enter amount to be Withdrawn:  60000\n"
     ]
    },
    {
     "name": "stdout",
     "output_type": "stream",
     "text": [
      "\n",
      " You Withdrew: 60000.0\n"
     ]
    }
   ],
   "source": [
    "x.withdraw()\n"
   ]
  },
  {
   "cell_type": "code",
   "execution_count": 20,
   "metadata": {},
   "outputs": [],
   "source": [
    "class cone():\n",
    "\n",
    "     def __init__(self,radius,height):\n",
    "\n",
    "         self.radius=radius\n",
    "\n",
    "         self.height=height\n",
    "\n",
    "     def getDetails(self):\n",
    "\n",
    "         print(\"radius\",self.radius)\n",
    "\n",
    "         print(\"height\",self.height)      \n",
    "     def volume(self):\n",
    "         \n",
    "         import math\n",
    "         radius=self.radius\n",
    "         height=self.height\n",
    "         Volume = (1.0/3) * math.pi * radius * radius * height\n",
    "\n",
    "         print(\"The Volume of a Cone = %.2f\" %Volume)\n",
    "     def surfacearea(self):\n",
    "         radius=self.radius\n",
    "         height=self.height\n",
    "         import math\n",
    "        \n",
    "\n",
    "         SA = math.pi * radius * (radius + math.sqrt((height*height)+(radius*radius)))\n",
    "            \n",
    "\n",
    "         print(\" The Surface Area of a Cone = %.2f \" %SA)"
   ]
  },
  {
   "cell_type": "code",
   "execution_count": 21,
   "metadata": {},
   "outputs": [],
   "source": [
    "x=cone(4.0,5.0)"
   ]
  },
  {
   "cell_type": "code",
   "execution_count": 22,
   "metadata": {},
   "outputs": [
    {
     "name": "stdout",
     "output_type": "stream",
     "text": [
      " The Surface Area of a Cone = 130.73 \n"
     ]
    }
   ],
   "source": [
    "x.surfacearea()"
   ]
  },
  {
   "cell_type": "code",
   "execution_count": 23,
   "metadata": {},
   "outputs": [
    {
     "name": "stdout",
     "output_type": "stream",
     "text": [
      "radius 4.0\n",
      "height 5.0\n"
     ]
    }
   ],
   "source": [
    "x.getDetails()"
   ]
  },
  {
   "cell_type": "code",
   "execution_count": 24,
   "metadata": {},
   "outputs": [
    {
     "name": "stdout",
     "output_type": "stream",
     "text": [
      "The Volume of a Cone = 83.78\n"
     ]
    }
   ],
   "source": [
    "x.volume()"
   ]
  },
  {
   "cell_type": "code",
   "execution_count": null,
   "metadata": {},
   "outputs": [],
   "source": []
  }
 ],
 "metadata": {
  "kernelspec": {
   "display_name": "Python 3",
   "language": "python",
   "name": "python3"
  },
  "language_info": {
   "codemirror_mode": {
    "name": "ipython",
    "version": 3
   },
   "file_extension": ".py",
   "mimetype": "text/x-python",
   "name": "python",
   "nbconvert_exporter": "python",
   "pygments_lexer": "ipython3",
   "version": "3.8.3"
  }
 },
 "nbformat": 4,
 "nbformat_minor": 4
}
