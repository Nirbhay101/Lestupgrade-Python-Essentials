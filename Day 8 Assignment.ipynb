{
 "cells": [
  {
   "cell_type": "markdown",
   "metadata": {},
   "source": [
    "# Question 1"
   ]
  },
  {
   "cell_type": "code",
   "execution_count": 23,
   "metadata": {},
   "outputs": [],
   "source": [
    "# Decorator function for your taking input from you any kind of function you want to build\n",
    "\n",
    "# Example - You make fibonnacci series function in which your input is defined by the decorator program input"
   ]
  },
  {
   "cell_type": "code",
   "execution_count": 14,
   "metadata": {},
   "outputs": [],
   "source": [
    "def getinp(inputrange):\n",
    "    def wrap_function():\n",
    "        print (\"Enter range\")\n",
    "        x=int(input())\n",
    "        inputrange(x)\n",
    "    return wrap_function\n",
    "    "
   ]
  },
  {
   "cell_type": "code",
   "execution_count": 32,
   "metadata": {},
   "outputs": [],
   "source": [
    "@getinp\n",
    "def Fibonacci(n):\n",
    "     a = 0\n",
    "     b = 1\n",
    "     c=0\n",
    "     print (\"Fibonacci Series\")\n",
    "     for i in range(n):\n",
    "         print(c, end=' ');\n",
    "         a = b;\n",
    "         b = c;\n",
    "         c = a + b;"
   ]
  },
  {
   "cell_type": "code",
   "execution_count": 33,
   "metadata": {},
   "outputs": [
    {
     "name": "stdout",
     "output_type": "stream",
     "text": [
      "Enter range\n"
     ]
    },
    {
     "name": "stdin",
     "output_type": "stream",
     "text": [
      " 9\n"
     ]
    },
    {
     "name": "stdout",
     "output_type": "stream",
     "text": [
      "Fibonacci Series\n",
      "0 1 1 2 3 5 8 13 21 "
     ]
    }
   ],
   "source": [
    "Fibonacci()"
   ]
  },
  {
   "cell_type": "markdown",
   "metadata": {},
   "source": [
    "# Question 2"
   ]
  },
  {
   "cell_type": "markdown",
   "metadata": {},
   "source": [
    "# Python program to open a file in read only mode and try writing something to it to handle \n",
    "# the subsequent errors using exception handling"
   ]
  },
  {
   "cell_type": "code",
   "execution_count": 26,
   "metadata": {},
   "outputs": [
    {
     "name": "stdout",
     "output_type": "stream",
     "text": [
      "Success\n"
     ]
    }
   ],
   "source": [
    "try:\n",
    "    file = open(\"mytextfile.txt\",\"w\")\n",
    "    file.write(\"Hi Iam Nirbhay\")\n",
    "    file.close()\n",
    "    print(\"Success\")\n",
    "except Exception as e:\n",
    "    print(\"You do not have write access to this file\")"
   ]
  },
  {
   "cell_type": "code",
   "execution_count": null,
   "metadata": {},
   "outputs": [],
   "source": []
  }
 ],
 "metadata": {
  "kernelspec": {
   "display_name": "Python 3",
   "language": "python",
   "name": "python3"
  },
  "language_info": {
   "codemirror_mode": {
    "name": "ipython",
    "version": 3
   },
   "file_extension": ".py",
   "mimetype": "text/x-python",
   "name": "python",
   "nbconvert_exporter": "python",
   "pygments_lexer": "ipython3",
   "version": "3.8.3"
  }
 },
 "nbformat": 4,
 "nbformat_minor": 4
}
