{
 "cells": [
  {
   "cell_type": "code",
   "execution_count": 38,
   "metadata": {},
   "outputs": [
    {
     "name": "stdout",
     "output_type": "stream",
     "text": [
      "1741725\n"
     ]
    }
   ],
   "source": [
    "\n",
    "num=1042000 \n",
    "count=0\n",
    "\n",
    "while (num<=702648265):\n",
    "    sum=0\n",
    "    temp=num\n",
    "    order=len(str(temp))\n",
    "    while(temp>0):\n",
    "        #print(temp)\n",
    "        d=temp%10\n",
    "        sum+=d**order\n",
    "        temp=temp//10\n",
    "        \n",
    "        \n",
    "        if (num==sum):\n",
    "            print ("The first armstrong number is -",num)\n",
    "            count=count+1\n",
    "            break\n",
    "    num=num+1\n",
    "    if count>0:\n",
    "        break\n",
    "    \n",
    "     \n",
    "    \n",
    "\n"
   ]
  },
  {
   "cell_type": "code",
   "execution_count": null,
   "metadata": {},
   "outputs": [],
   "source": []
  },
  {
   "cell_type": "code",
   "execution_count": null,
   "metadata": {},
   "outputs": [],
   "source": []
  }
 ],
 "metadata": {
  "kernelspec": {
   "display_name": "Python 3",
   "language": "python",
   "name": "python3"
  },
  "language_info": {
   "codemirror_mode": {
    "name": "ipython",
    "version": 3
   },
   "file_extension": ".py",
   "mimetype": "text/x-python",
   "name": "python",
   "nbconvert_exporter": "python",
   "pygments_lexer": "ipython3",
   "version": "3.8.3"
  }
 },
 "nbformat": 4,
 "nbformat_minor": 4
}
