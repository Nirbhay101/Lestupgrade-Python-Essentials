{
 "cells": [
  {
   "cell_type": "code",
   "execution_count": 59,
   "metadata": {},
   "outputs": [
    {
     "name": "stdout",
     "output_type": "stream",
     "text": [
      "2,3,5,7,11,13,17,19,23,29,31,37,41,43,47,53,59,61,67,71,73,79,83,89,97,101,103,107,109,113,127,131,137,139,149,151,157,163,167,173,179,181,191,193,197,199,"
     ]
    }
   ],
   "source": [
    "num=2       \n",
    "while (num<201):\n",
    "   \n",
    "    for i in range(2,num):\n",
    "        if (num % i) == 0:\n",
    "            #print(num,\"is not a prime number\")\n",
    "            #print(i,\"times\",num//i,\"is\",num)\n",
    "            break\n",
    "    else:\n",
    "        print(num,end=\",\")\n",
    "        \n",
    "    num=num+1\n",
    "\n",
    "    \n",
    "       \n",
    "\n",
    "\n",
    "    \n"
   ]
  },
  {
   "cell_type": "code",
   "execution_count": 58,
   "metadata": {},
   "outputs": [
    {
     "name": "stdin",
     "output_type": "stream",
     "text": [
      "Enter Height-  7000\n"
     ]
    },
    {
     "name": "stdout",
     "output_type": "stream",
     "text": [
      "Turn Around\n"
     ]
    }
   ],
   "source": [
    "\n",
    "height=input (\"Enter Height- \")\n",
    "height=int(height)\n",
    "if (height<=1000):\n",
    "    print(\"Safe to Land\")\n",
    "elif (height<5000):\n",
    "    print(\"Bring down to 1000\")\n",
    "else:\n",
    "    print(\"Turn Around\")\n"
   ]
  },
  {
   "cell_type": "code",
   "execution_count": null,
   "metadata": {},
   "outputs": [],
   "source": [
    "print(\"hello\")"
   ]
  },
  {
   "cell_type": "code",
   "execution_count": null,
   "metadata": {},
   "outputs": [],
   "source": []
  }
 ],
 "metadata": {
  "kernelspec": {
   "display_name": "Python 3",
   "language": "python",
   "name": "python3"
  },
  "language_info": {
   "codemirror_mode": {
    "name": "ipython",
    "version": 3
   },
   "file_extension": ".py",
   "mimetype": "text/x-python",
   "name": "python",
   "nbconvert_exporter": "python",
   "pygments_lexer": "ipython3",
   "version": "3.8.3"
  }
 },
 "nbformat": 4,
 "nbformat_minor": 4
}
